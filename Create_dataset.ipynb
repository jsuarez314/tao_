{
 "cells": [
  {
   "cell_type": "code",
   "execution_count": 1,
   "metadata": {},
   "outputs": [],
   "source": [
    "import numpy as np\n",
    "import fitsio\n",
    "import matplotlib.pyplot as plt\n",
    "import os\n",
    "import pandas as pd"
   ]
  },
  {
   "cell_type": "code",
   "execution_count": 2,
   "metadata": {},
   "outputs": [],
   "source": [
    "def create_fits_TRAN(ID,files,path_file,classification):\n",
    "    path = './data/'+classification+'/'\n",
    "    if not os.path.isdir(path):\n",
    "        os.mkdir(path)\n",
    "    \n",
    "    filename = './data/{}/{}.fits'.format(classification,ID)\n",
    "    \n",
    "    if os.path.isfile(filename):\n",
    "        print(\"Object {} already exists!\".format(ID))\n",
    "        return False\n",
    "    \n",
    "    df = pd.read_table('../mantra_data/transient_info.txt')\n",
    "    CRTS_ID = np.array(df['#CRTS ID'])\n",
    "    if sum(CRTS_ID == ID) != 0:\n",
    "        RA = np.array(df[CRTS_ID == ID]['RA (J2000)'])[0]\n",
    "        DEC = np.array(df[CRTS_ID == ID]['Dec (J2000)'])[0]\n",
    "        UT_Date = np.array(df[CRTS_ID == ID]['UT Date'])[0]\n",
    "        MAG = np.array(df[CRTS_ID == ID]['Mag'])[0]\n",
    "        CSS_Images = np.array(df[CRTS_ID == ID]['CSS images'])[0]\n",
    "        SDSS = np.array(df[CRTS_ID == ID]['SDSS'])[0]\n",
    "        OTHERS = np.array(df[CRTS_ID == ID]['Others'])[0]\n",
    "        FOLLOWED = np.array(df[CRTS_ID == ID]['Followed'])[0]\n",
    "        LAST = np.array(df[CRTS_ID == ID]['Last'])[0]\n",
    "        LC = np.array(df[CRTS_ID == ID]['LC'])[0]\n",
    "        FC = np.array(df[CRTS_ID == ID]['FC'])[0]\n",
    "        CLASS = np.array(df[CRTS_ID == ID]['Classification'])[0]\n",
    "\n",
    "        N = len(files)\n",
    "        SEQUENCE = np.zeros(N).astype('S2')\n",
    "        DATE = np.zeros(N, dtype='S7')\n",
    "        FIELD_ID = np.zeros(N, dtype='S6')\n",
    "        OBS_IN_SEQ =  np.zeros(N, dtype='S4')\n",
    "        CUTOUT = np.zeros(N, dtype='S4')\n",
    "        HDU_EXT = np.arange(2,N+2).astype('S4')\n",
    "        for i, file in enumerate(files):\n",
    "#             print(file)\n",
    "            SEQUENCE[i] = file[0:2]\n",
    "            DATE[i] = file[3:10]\n",
    "            FIELD_ID[i] = file[11:17]\n",
    "            OBS_IN_SEQ[i] = file[18:22]\n",
    "            CUTOUT[i] = file[30:34]\n",
    "#             print(SEQUENCE[i],DATE[i],FIELD_ID[i],OBSERVATION_IN_SEQ[i],CUTOUT[i])\n",
    "\n",
    "\n",
    "        hdict = {'CRTS_ID': ID, 'RA (J2000)': RA, 'Dec (J2000)':DEC, 'N_images': N, \n",
    "                'UT Date': UT_Date, 'Mag': MAG, 'CSS images': CSS_Images,\n",
    "                 'SDSS': SDSS, 'Others': OTHERS, 'Followed': FOLLOWED, 'Last': LAST,\n",
    "                 'LC': LC, 'FC': FC, 'Classification': CLASS}\n",
    "        data = {'HDU_Ext': HDU_EXT, 'Sequence': SEQUENCE, 'Date': DATE, 'Field_ID':FIELD_ID,\n",
    "                'Obs_In_Seq': OBS_IN_SEQ, 'Cutout': CUTOUT}\n",
    "        fitsio.write(filename, data, header=hdict)\n",
    "\n",
    "        for file in files:\n",
    "            img = np.load(path_file+file)\n",
    "            fitsio.write(filename, img)\n",
    "        return True\n",
    "    else:\n",
    "        print('{} Do not found in MANTRA'.format(ID))\n",
    "        return False"
   ]
  },
  {
   "cell_type": "code",
   "execution_count": 4,
   "metadata": {},
   "outputs": [
    {
     "name": "stdout",
     "output_type": "stream",
     "text": [
      "CSS111020:044543+110860 Do not found in MANTRA\n",
      "CSS140906:231936+364660 Do not found in MANTRA\n",
      "CSS150209:064643+412060 Do not found in MANTRA\n",
      "CSS160617:132741+220760 Do not found in MANTRA\n",
      "CSS111118:035125+365560 Do not found in MANTRA\n",
      "CSS141018:213254+213160 Do not found in MANTRA\n",
      "CSS160129:134514+345260 Do not found in MANTRA\n"
     ]
    }
   ],
   "source": [
    "classes = ['AGN','BZ','CV','SN','OTHER']\n",
    "for classification in classes:\n",
    "    path = '../mantra_data/{}/'.format(classification)\n",
    "    objects = !ls $path\n",
    "    for objct in objects:\n",
    "        path_file = path+objct+'/'\n",
    "        files = !ls $path_file\n",
    "        ID = objct[objct.find('CSS'):objct.find('CSS')+23]\n",
    "        value = create_fits_TRAN(ID,files,path_file,classification)   "
   ]
  },
  {
   "cell_type": "code",
   "execution_count": null,
   "metadata": {},
   "outputs": [],
   "source": [
    "def create_fits_NON(ID,files,path_file,classification):\n",
    "    path = './data/NON/'\n",
    "    if not os.path.isdir(path):\n",
    "        os.mkdir(path)\n",
    "    \n",
    "    filename = './data/{}/{}.fits'.format(classification,ID)\n",
    "    \n",
    "    if os.path.isfile(filename):\n",
    "#         print(\"Object {} already exists!\".format(ID))\n",
    "        return False\n",
    "    \n",
    "    df = pd.read_pickle('../mantra_data/NON_dataframe_info.pkl')\n",
    "    CRTS_ID = np.array(df['Neg_ID'])\n",
    "    if sum(CRTS_ID == ID) != 0:\n",
    "        RA = np.array(df[ (CRTS_ID == ID)]['RA'])\n",
    "        DEC = np.array(df[ (CRTS_ID == ID)]['DEC'])\n",
    "        IMG_ref = np.array(df[ (CRTS_ID == ID)]['Im_ref'])[0]\n",
    "        HDU_EXT = np.arange(2,N+2).astype('S4')\n",
    "\n",
    "        hdict = {'CTRS_ID': ID, 'N_images': N, 'IMG_Ref': IMG_ref}\n",
    "        data = {'HDU_Ext': HDU_EXT, 'RA (J2000)': RA, 'Dec (J2000)':DEC}\n",
    "        fitsio.write(filename, data, header=hdict)\n",
    "\n",
    "        for file in files:\n",
    "            img = np.load(path_file+file)\n",
    "            fitsio.write(filename, img)\n",
    "        return True\n",
    "    else:\n",
    "        print('{} Do not found in MANTRA'.format(ID))\n",
    "        return False"
   ]
  },
  {
   "cell_type": "code",
   "execution_count": null,
   "metadata": {},
   "outputs": [],
   "source": [
    "classes =  ['NON']\n",
    "for classification in classes:\n",
    "    path = '../mantra_data/{}/'.format(classification)\n",
    "    objects = !ls $path\n",
    "    for objct in objects:\n",
    "        path_file = path+objct+'/'\n",
    "        files = !ls $path_file\n",
    "        ID = objct[objct.find('CSS'):objct.find('CSS')+23]\n",
    "        value = create_fits_NON(ID,files,path_file,classification)"
   ]
  }
 ],
 "metadata": {
  "kernelspec": {
   "display_name": "DESI 19.12",
   "language": "python",
   "name": "desi-19.12"
  },
  "language_info": {
   "codemirror_mode": {
    "name": "ipython",
    "version": 3
   },
   "file_extension": ".py",
   "mimetype": "text/x-python",
   "name": "python",
   "nbconvert_exporter": "python",
   "pygments_lexer": "ipython3",
   "version": "3.6.6"
  }
 },
 "nbformat": 4,
 "nbformat_minor": 4
}
